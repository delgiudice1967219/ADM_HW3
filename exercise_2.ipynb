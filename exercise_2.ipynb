{
  "nbformat": 4,
  "nbformat_minor": 0,
  "metadata": {
    "colab": {
      "provenance": []
    },
    "kernelspec": {
      "name": "python3",
      "display_name": "Python 3"
    },
    "language_info": {
      "name": "python"
    }
  },
  "cells": [
    {
      "cell_type": "markdown",
      "metadata": {
        "id": "q1i9zzfhXXhb"
      },
      "source": [
        "# 2. Search Engine"
      ]
    },
    {
      "cell_type": "markdown",
      "metadata": {
        "id": "utldng-rXa_9"
      },
      "source": [
        "## 2.0 Preprocessing"
      ]
    },
    {
      "metadata": {
        "id": "AQ60NgQrq48x"
      },
      "cell_type": "markdown",
      "source": [
        "The first step is to preprocess the restaurant descriptions. For this, we use the custom-made function ```preprocessing```, and save all pre-processed documents in a list of documents ```preprocessed_docs```."
      ]
    },
    {
      "metadata": {
        "ExecuteTime": {
          "end_time": "2024-11-14T16:29:46.509337Z",
          "start_time": "2024-11-14T16:29:46.488089Z"
        },
        "id": "zwrmZK27q48x"
      },
      "cell_type": "code",
      "source": [
        "df = pd.read_csv('restaurants_data.tsv', sep = '\\t')"
      ],
      "outputs": [],
      "execution_count": null
    },
    {
      "metadata": {
        "ExecuteTime": {
          "end_time": "2024-11-14T16:29:47.598382Z",
          "start_time": "2024-11-14T16:29:47.581501Z"
        },
        "colab": {
          "base_uri": "https://localhost:8080/",
          "height": 539
        },
        "id": "bdSCX0Wcq48x",
        "outputId": "be818988-a7a5-4840-e227-96afb769ed4d"
      },
      "cell_type": "code",
      "source": [
        "df.head()"
      ],
      "outputs": [
        {
          "output_type": "execute_result",
          "data": {
            "text/plain": [
              "                     restaurantName       city  postalCode country  \\\n",
              "0                          Konnubio   Florence       50123   Italy   \n",
              "1             Seta Sushi Restaurant    Bologna       40125   Italy   \n",
              "2                       Wine & Dine    Canazei       38032   Italy   \n",
              "3  Enoteca di Canelli - Casa Crippa    Canelli       14053   Italy   \n",
              "4                           Shiroya       Rome         186   Italy   \n",
              "\n",
              "                address priceRange                               cuisineType  \\\n",
              "0     via dei Conti 8 r         €€                  ['Italian Contemporary']   \n",
              "1       corte Isolani 2         €€                              ['Japanese']   \n",
              "2         strèdà Roma 5         €€  ['Regional Cuisine', ' Classic Cuisine']   \n",
              "3    corso Libertà 65/a         €€        ['Modern Cuisine', ' Piedmontese']   \n",
              "4  via dei Baullari 147         €€                    ['Japanese', ' Asian']   \n",
              "\n",
              "                                         description  \\\n",
              "0  Different options under one roof: a bar open f...   \n",
              "1  It was friendship and passion for Japanese cui...   \n",
              "2  Popular with locals, this restaurant has the t...   \n",
              "3  Occupying a late-19C palazzo, in what was a hi...   \n",
              "4  One of the most popular restaurants in the his...   \n",
              "\n",
              "                                  facilitiesServices  \\\n",
              "0  ['Air conditioning', 'Restaurant offering vege...   \n",
              "1                    ['Air conditioning', 'Terrace']   \n",
              "2  ['Car park', 'Garden or park', 'Interesting wi...   \n",
              "3                               ['Air conditioning']   \n",
              "4                    ['Air conditioning', 'Terrace']   \n",
              "\n",
              "                                     creditCards       phoneNumber  \\\n",
              "0  ['amex', 'maestrocard', 'mastercard', 'visa']  +39 055 238 1189   \n",
              "1  ['amex', 'maestrocard', 'mastercard', 'visa']  +39 051 003 9367   \n",
              "2  ['amex', 'maestrocard', 'mastercard', 'visa']   +39 0462 601111   \n",
              "3   ['amex', 'dinersclub', 'mastercard', 'visa']   +39 0141 832182   \n",
              "4                 ['amex', 'mastercard', 'visa']  +39 06 6476 0753   \n",
              "\n",
              "                                             website  \n",
              "0  https://guide.michelin.com/en/toscana/firenze/...  \n",
              "1  https://guide.michelin.com/en/emilia-romagna/b...  \n",
              "2  https://guide.michelin.com/en/trentino-alto-ad...  \n",
              "3  https://guide.michelin.com/en/piemonte/canelli...  \n",
              "4  https://guide.michelin.com/en/lazio/roma/resta...  "
            ],
            "text/html": [
              "\n",
              "  <div id=\"df-cf8d7e41-9b7d-4611-bf06-018f280aeaa7\" class=\"colab-df-container\">\n",
              "    <div>\n",
              "<style scoped>\n",
              "    .dataframe tbody tr th:only-of-type {\n",
              "        vertical-align: middle;\n",
              "    }\n",
              "\n",
              "    .dataframe tbody tr th {\n",
              "        vertical-align: top;\n",
              "    }\n",
              "\n",
              "    .dataframe thead th {\n",
              "        text-align: right;\n",
              "    }\n",
              "</style>\n",
              "<table border=\"1\" class=\"dataframe\">\n",
              "  <thead>\n",
              "    <tr style=\"text-align: right;\">\n",
              "      <th></th>\n",
              "      <th>restaurantName</th>\n",
              "      <th>city</th>\n",
              "      <th>postalCode</th>\n",
              "      <th>country</th>\n",
              "      <th>address</th>\n",
              "      <th>priceRange</th>\n",
              "      <th>cuisineType</th>\n",
              "      <th>description</th>\n",
              "      <th>facilitiesServices</th>\n",
              "      <th>creditCards</th>\n",
              "      <th>phoneNumber</th>\n",
              "      <th>website</th>\n",
              "    </tr>\n",
              "  </thead>\n",
              "  <tbody>\n",
              "    <tr>\n",
              "      <th>0</th>\n",
              "      <td>Konnubio</td>\n",
              "      <td>Florence</td>\n",
              "      <td>50123</td>\n",
              "      <td>Italy</td>\n",
              "      <td>via dei Conti 8 r</td>\n",
              "      <td>€€</td>\n",
              "      <td>['Italian Contemporary']</td>\n",
              "      <td>Different options under one roof: a bar open f...</td>\n",
              "      <td>['Air conditioning', 'Restaurant offering vege...</td>\n",
              "      <td>['amex', 'maestrocard', 'mastercard', 'visa']</td>\n",
              "      <td>+39 055 238 1189</td>\n",
              "      <td>https://guide.michelin.com/en/toscana/firenze/...</td>\n",
              "    </tr>\n",
              "    <tr>\n",
              "      <th>1</th>\n",
              "      <td>Seta Sushi Restaurant</td>\n",
              "      <td>Bologna</td>\n",
              "      <td>40125</td>\n",
              "      <td>Italy</td>\n",
              "      <td>corte Isolani 2</td>\n",
              "      <td>€€</td>\n",
              "      <td>['Japanese']</td>\n",
              "      <td>It was friendship and passion for Japanese cui...</td>\n",
              "      <td>['Air conditioning', 'Terrace']</td>\n",
              "      <td>['amex', 'maestrocard', 'mastercard', 'visa']</td>\n",
              "      <td>+39 051 003 9367</td>\n",
              "      <td>https://guide.michelin.com/en/emilia-romagna/b...</td>\n",
              "    </tr>\n",
              "    <tr>\n",
              "      <th>2</th>\n",
              "      <td>Wine &amp; Dine</td>\n",
              "      <td>Canazei</td>\n",
              "      <td>38032</td>\n",
              "      <td>Italy</td>\n",
              "      <td>strèdà Roma 5</td>\n",
              "      <td>€€</td>\n",
              "      <td>['Regional Cuisine', ' Classic Cuisine']</td>\n",
              "      <td>Popular with locals, this restaurant has the t...</td>\n",
              "      <td>['Car park', 'Garden or park', 'Interesting wi...</td>\n",
              "      <td>['amex', 'maestrocard', 'mastercard', 'visa']</td>\n",
              "      <td>+39 0462 601111</td>\n",
              "      <td>https://guide.michelin.com/en/trentino-alto-ad...</td>\n",
              "    </tr>\n",
              "    <tr>\n",
              "      <th>3</th>\n",
              "      <td>Enoteca di Canelli - Casa Crippa</td>\n",
              "      <td>Canelli</td>\n",
              "      <td>14053</td>\n",
              "      <td>Italy</td>\n",
              "      <td>corso Libertà 65/a</td>\n",
              "      <td>€€</td>\n",
              "      <td>['Modern Cuisine', ' Piedmontese']</td>\n",
              "      <td>Occupying a late-19C palazzo, in what was a hi...</td>\n",
              "      <td>['Air conditioning']</td>\n",
              "      <td>['amex', 'dinersclub', 'mastercard', 'visa']</td>\n",
              "      <td>+39 0141 832182</td>\n",
              "      <td>https://guide.michelin.com/en/piemonte/canelli...</td>\n",
              "    </tr>\n",
              "    <tr>\n",
              "      <th>4</th>\n",
              "      <td>Shiroya</td>\n",
              "      <td>Rome</td>\n",
              "      <td>186</td>\n",
              "      <td>Italy</td>\n",
              "      <td>via dei Baullari 147</td>\n",
              "      <td>€€</td>\n",
              "      <td>['Japanese', ' Asian']</td>\n",
              "      <td>One of the most popular restaurants in the his...</td>\n",
              "      <td>['Air conditioning', 'Terrace']</td>\n",
              "      <td>['amex', 'mastercard', 'visa']</td>\n",
              "      <td>+39 06 6476 0753</td>\n",
              "      <td>https://guide.michelin.com/en/lazio/roma/resta...</td>\n",
              "    </tr>\n",
              "  </tbody>\n",
              "</table>\n",
              "</div>\n",
              "    <div class=\"colab-df-buttons\">\n",
              "\n",
              "  <div class=\"colab-df-container\">\n",
              "    <button class=\"colab-df-convert\" onclick=\"convertToInteractive('df-cf8d7e41-9b7d-4611-bf06-018f280aeaa7')\"\n",
              "            title=\"Convert this dataframe to an interactive table.\"\n",
              "            style=\"display:none;\">\n",
              "\n",
              "  <svg xmlns=\"http://www.w3.org/2000/svg\" height=\"24px\" viewBox=\"0 -960 960 960\">\n",
              "    <path d=\"M120-120v-720h720v720H120Zm60-500h600v-160H180v160Zm220 220h160v-160H400v160Zm0 220h160v-160H400v160ZM180-400h160v-160H180v160Zm440 0h160v-160H620v160ZM180-180h160v-160H180v160Zm440 0h160v-160H620v160Z\"/>\n",
              "  </svg>\n",
              "    </button>\n",
              "\n",
              "  <style>\n",
              "    .colab-df-container {\n",
              "      display:flex;\n",
              "      gap: 12px;\n",
              "    }\n",
              "\n",
              "    .colab-df-convert {\n",
              "      background-color: #E8F0FE;\n",
              "      border: none;\n",
              "      border-radius: 50%;\n",
              "      cursor: pointer;\n",
              "      display: none;\n",
              "      fill: #1967D2;\n",
              "      height: 32px;\n",
              "      padding: 0 0 0 0;\n",
              "      width: 32px;\n",
              "    }\n",
              "\n",
              "    .colab-df-convert:hover {\n",
              "      background-color: #E2EBFA;\n",
              "      box-shadow: 0px 1px 2px rgba(60, 64, 67, 0.3), 0px 1px 3px 1px rgba(60, 64, 67, 0.15);\n",
              "      fill: #174EA6;\n",
              "    }\n",
              "\n",
              "    .colab-df-buttons div {\n",
              "      margin-bottom: 4px;\n",
              "    }\n",
              "\n",
              "    [theme=dark] .colab-df-convert {\n",
              "      background-color: #3B4455;\n",
              "      fill: #D2E3FC;\n",
              "    }\n",
              "\n",
              "    [theme=dark] .colab-df-convert:hover {\n",
              "      background-color: #434B5C;\n",
              "      box-shadow: 0px 1px 3px 1px rgba(0, 0, 0, 0.15);\n",
              "      filter: drop-shadow(0px 1px 2px rgba(0, 0, 0, 0.3));\n",
              "      fill: #FFFFFF;\n",
              "    }\n",
              "  </style>\n",
              "\n",
              "    <script>\n",
              "      const buttonEl =\n",
              "        document.querySelector('#df-cf8d7e41-9b7d-4611-bf06-018f280aeaa7 button.colab-df-convert');\n",
              "      buttonEl.style.display =\n",
              "        google.colab.kernel.accessAllowed ? 'block' : 'none';\n",
              "\n",
              "      async function convertToInteractive(key) {\n",
              "        const element = document.querySelector('#df-cf8d7e41-9b7d-4611-bf06-018f280aeaa7');\n",
              "        const dataTable =\n",
              "          await google.colab.kernel.invokeFunction('convertToInteractive',\n",
              "                                                    [key], {});\n",
              "        if (!dataTable) return;\n",
              "\n",
              "        const docLinkHtml = 'Like what you see? Visit the ' +\n",
              "          '<a target=\"_blank\" href=https://colab.research.google.com/notebooks/data_table.ipynb>data table notebook</a>'\n",
              "          + ' to learn more about interactive tables.';\n",
              "        element.innerHTML = '';\n",
              "        dataTable['output_type'] = 'display_data';\n",
              "        await google.colab.output.renderOutput(dataTable, element);\n",
              "        const docLink = document.createElement('div');\n",
              "        docLink.innerHTML = docLinkHtml;\n",
              "        element.appendChild(docLink);\n",
              "      }\n",
              "    </script>\n",
              "  </div>\n",
              "\n",
              "\n",
              "<div id=\"df-78626213-3334-40a9-89d6-1ca6c2299c2c\">\n",
              "  <button class=\"colab-df-quickchart\" onclick=\"quickchart('df-78626213-3334-40a9-89d6-1ca6c2299c2c')\"\n",
              "            title=\"Suggest charts\"\n",
              "            style=\"display:none;\">\n",
              "\n",
              "<svg xmlns=\"http://www.w3.org/2000/svg\" height=\"24px\"viewBox=\"0 0 24 24\"\n",
              "     width=\"24px\">\n",
              "    <g>\n",
              "        <path d=\"M19 3H5c-1.1 0-2 .9-2 2v14c0 1.1.9 2 2 2h14c1.1 0 2-.9 2-2V5c0-1.1-.9-2-2-2zM9 17H7v-7h2v7zm4 0h-2V7h2v10zm4 0h-2v-4h2v4z\"/>\n",
              "    </g>\n",
              "</svg>\n",
              "  </button>\n",
              "\n",
              "<style>\n",
              "  .colab-df-quickchart {\n",
              "      --bg-color: #E8F0FE;\n",
              "      --fill-color: #1967D2;\n",
              "      --hover-bg-color: #E2EBFA;\n",
              "      --hover-fill-color: #174EA6;\n",
              "      --disabled-fill-color: #AAA;\n",
              "      --disabled-bg-color: #DDD;\n",
              "  }\n",
              "\n",
              "  [theme=dark] .colab-df-quickchart {\n",
              "      --bg-color: #3B4455;\n",
              "      --fill-color: #D2E3FC;\n",
              "      --hover-bg-color: #434B5C;\n",
              "      --hover-fill-color: #FFFFFF;\n",
              "      --disabled-bg-color: #3B4455;\n",
              "      --disabled-fill-color: #666;\n",
              "  }\n",
              "\n",
              "  .colab-df-quickchart {\n",
              "    background-color: var(--bg-color);\n",
              "    border: none;\n",
              "    border-radius: 50%;\n",
              "    cursor: pointer;\n",
              "    display: none;\n",
              "    fill: var(--fill-color);\n",
              "    height: 32px;\n",
              "    padding: 0;\n",
              "    width: 32px;\n",
              "  }\n",
              "\n",
              "  .colab-df-quickchart:hover {\n",
              "    background-color: var(--hover-bg-color);\n",
              "    box-shadow: 0 1px 2px rgba(60, 64, 67, 0.3), 0 1px 3px 1px rgba(60, 64, 67, 0.15);\n",
              "    fill: var(--button-hover-fill-color);\n",
              "  }\n",
              "\n",
              "  .colab-df-quickchart-complete:disabled,\n",
              "  .colab-df-quickchart-complete:disabled:hover {\n",
              "    background-color: var(--disabled-bg-color);\n",
              "    fill: var(--disabled-fill-color);\n",
              "    box-shadow: none;\n",
              "  }\n",
              "\n",
              "  .colab-df-spinner {\n",
              "    border: 2px solid var(--fill-color);\n",
              "    border-color: transparent;\n",
              "    border-bottom-color: var(--fill-color);\n",
              "    animation:\n",
              "      spin 1s steps(1) infinite;\n",
              "  }\n",
              "\n",
              "  @keyframes spin {\n",
              "    0% {\n",
              "      border-color: transparent;\n",
              "      border-bottom-color: var(--fill-color);\n",
              "      border-left-color: var(--fill-color);\n",
              "    }\n",
              "    20% {\n",
              "      border-color: transparent;\n",
              "      border-left-color: var(--fill-color);\n",
              "      border-top-color: var(--fill-color);\n",
              "    }\n",
              "    30% {\n",
              "      border-color: transparent;\n",
              "      border-left-color: var(--fill-color);\n",
              "      border-top-color: var(--fill-color);\n",
              "      border-right-color: var(--fill-color);\n",
              "    }\n",
              "    40% {\n",
              "      border-color: transparent;\n",
              "      border-right-color: var(--fill-color);\n",
              "      border-top-color: var(--fill-color);\n",
              "    }\n",
              "    60% {\n",
              "      border-color: transparent;\n",
              "      border-right-color: var(--fill-color);\n",
              "    }\n",
              "    80% {\n",
              "      border-color: transparent;\n",
              "      border-right-color: var(--fill-color);\n",
              "      border-bottom-color: var(--fill-color);\n",
              "    }\n",
              "    90% {\n",
              "      border-color: transparent;\n",
              "      border-bottom-color: var(--fill-color);\n",
              "    }\n",
              "  }\n",
              "</style>\n",
              "\n",
              "  <script>\n",
              "    async function quickchart(key) {\n",
              "      const quickchartButtonEl =\n",
              "        document.querySelector('#' + key + ' button');\n",
              "      quickchartButtonEl.disabled = true;  // To prevent multiple clicks.\n",
              "      quickchartButtonEl.classList.add('colab-df-spinner');\n",
              "      try {\n",
              "        const charts = await google.colab.kernel.invokeFunction(\n",
              "            'suggestCharts', [key], {});\n",
              "      } catch (error) {\n",
              "        console.error('Error during call to suggestCharts:', error);\n",
              "      }\n",
              "      quickchartButtonEl.classList.remove('colab-df-spinner');\n",
              "      quickchartButtonEl.classList.add('colab-df-quickchart-complete');\n",
              "    }\n",
              "    (() => {\n",
              "      let quickchartButtonEl =\n",
              "        document.querySelector('#df-78626213-3334-40a9-89d6-1ca6c2299c2c button');\n",
              "      quickchartButtonEl.style.display =\n",
              "        google.colab.kernel.accessAllowed ? 'block' : 'none';\n",
              "    })();\n",
              "  </script>\n",
              "</div>\n",
              "\n",
              "    </div>\n",
              "  </div>\n"
            ],
            "application/vnd.google.colaboratory.intrinsic+json": {
              "type": "dataframe",
              "variable_name": "df",
              "summary": "{\n  \"name\": \"df\",\n  \"rows\": 1981,\n  \"fields\": [\n    {\n      \"column\": \"restaurantName\",\n      \"properties\": {\n        \"dtype\": \"string\",\n        \"num_unique_values\": 1941,\n        \"samples\": [\n          \"Punto G\",\n          \"Un Posto a Milano\",\n          \"Marcandole\"\n        ],\n        \"semantic_type\": \"\",\n        \"description\": \"\"\n      }\n    },\n    {\n      \"column\": \"city\",\n      \"properties\": {\n        \"dtype\": \"string\",\n        \"num_unique_values\": 1116,\n        \"samples\": [\n          \" San Giorgio di Valpolicella\",\n          \" Monastier di Treviso\",\n          \" Desenzano del Garda\"\n        ],\n        \"semantic_type\": \"\",\n        \"description\": \"\"\n      }\n    },\n    {\n      \"column\": \"postalCode\",\n      \"properties\": {\n        \"dtype\": \"number\",\n        \"std\": 25961,\n        \"min\": 10,\n        \"max\": 98121,\n        \"num_unique_values\": 1049,\n        \"samples\": [\n          12012,\n          32100,\n          95029\n        ],\n        \"semantic_type\": \"\",\n        \"description\": \"\"\n      }\n    },\n    {\n      \"column\": \"country\",\n      \"properties\": {\n        \"dtype\": \"category\",\n        \"num_unique_values\": 1,\n        \"samples\": [\n          \" Italy\"\n        ],\n        \"semantic_type\": \"\",\n        \"description\": \"\"\n      }\n    },\n    {\n      \"column\": \"address\",\n      \"properties\": {\n        \"dtype\": \"string\",\n        \"num_unique_values\": 1952,\n        \"samples\": [\n          \"via San Nicol\\u00f2 5/b  Vandoies di Sopra\"\n        ],\n        \"semantic_type\": \"\",\n        \"description\": \"\"\n      }\n    },\n    {\n      \"column\": \"priceRange\",\n      \"properties\": {\n        \"dtype\": \"category\",\n        \"num_unique_values\": 4,\n        \"samples\": [\n          \"\\u20ac\\u20ac\\u20ac\"\n        ],\n        \"semantic_type\": \"\",\n        \"description\": \"\"\n      }\n    },\n    {\n      \"column\": \"cuisineType\",\n      \"properties\": {\n        \"dtype\": \"category\",\n        \"num_unique_values\": 432,\n        \"samples\": [\n          \"['Mediterranean Cuisine', ' Grills']\"\n        ],\n        \"semantic_type\": \"\",\n        \"description\": \"\"\n      }\n    },\n    {\n      \"column\": \"description\",\n      \"properties\": {\n        \"dtype\": \"string\",\n        \"num_unique_values\": 1981,\n        \"samples\": [\n          \"Just a stone\\u2019s throw from Piazza San Michele, in the heart of the beautiful historic centre of Lucca, the Buca di Sant'Antonio dates back over 200 years and is one of the city\\u2019s oldest restaurants. Here, the old copper pots and pans that hang from the ceiling add to the warm, romantic atmosphere, while the cuisine unsurprisingly showcases traditional Tuscan specialities including meat dishes and home-made pasta.\"\n        ],\n        \"semantic_type\": \"\",\n        \"description\": \"\"\n      }\n    },\n    {\n      \"column\": \"facilitiesServices\",\n      \"properties\": {\n        \"dtype\": \"category\",\n        \"num_unique_values\": 226,\n        \"samples\": [\n          \"['Air conditioning', 'Car park', 'Garden or park', 'Interesting wine list']\"\n        ],\n        \"semantic_type\": \"\",\n        \"description\": \"\"\n      }\n    },\n    {\n      \"column\": \"creditCards\",\n      \"properties\": {\n        \"dtype\": \"category\",\n        \"num_unique_values\": 35,\n        \"samples\": [\n          \"['unionpay', 'maestrocard', 'mastercard', 'visa']\"\n        ],\n        \"semantic_type\": \"\",\n        \"description\": \"\"\n      }\n    },\n    {\n      \"column\": \"phoneNumber\",\n      \"properties\": {\n        \"dtype\": \"string\",\n        \"num_unique_values\": 1968,\n        \"samples\": [\n          \"+39 0575 595474\"\n        ],\n        \"semantic_type\": \"\",\n        \"description\": \"\"\n      }\n    },\n    {\n      \"column\": \"website\",\n      \"properties\": {\n        \"dtype\": \"string\",\n        \"num_unique_values\": 1981,\n        \"samples\": [\n          \"https://guide.michelin.com/en/toscana/lucca/restaurant/buca-di-sant-antonio\"\n        ],\n        \"semantic_type\": \"\",\n        \"description\": \"\"\n      }\n    }\n  ]\n}"
            }
          },
          "metadata": {},
          "execution_count": 9
        }
      ],
      "execution_count": null
    },
    {
      "metadata": {
        "ExecuteTime": {
          "end_time": "2024-11-14T16:29:51.084245Z",
          "start_time": "2024-11-14T16:29:49.269199Z"
        },
        "id": "FP8iYSe-q48y"
      },
      "cell_type": "code",
      "source": [
        "preprocessed_docs = defaultdict(list) # initialize defaultdict to store preprocessed docs\n",
        "for doc_id, doc in enumerate(df.description):\n",
        "  preprocessed_docs[doc_id] = engine.preprocessing(doc) # preprocess doc at position doc_id"
      ],
      "outputs": [],
      "execution_count": null
    },
    {
      "cell_type": "code",
      "metadata": {
        "colab": {
          "base_uri": "https://localhost:8080/"
        },
        "id": "rRWQ7HxDX1oY",
        "outputId": "630e09b2-1267-4877-f605-6a40e4122992",
        "ExecuteTime": {
          "end_time": "2024-11-14T16:29:51.772466Z",
          "start_time": "2024-11-14T16:29:51.763224Z"
        }
      },
      "source": [
        "# Test description\n",
        "text = '''After many years' experience in Michelin-starred restaurants, Luigi Tramontano and his wife Nicoletta\n",
        "have opened their first restaurant in the chef's native Gargnano. Previously a pasta factory, the building has been converted\n",
        "into an elegant, contemporary-style restaurant which has nonetheless retained its charming high ceilings.\n",
        "The cuisine is inspired by regional traditions which are reinterpreted to create gourmet dishes,\n",
        "all prepared with respect for the ingredients used and a strong focus on local produce.'''\n",
        "\n",
        "# Test preprocessing on test description\n",
        "print(engine.preprocessing(text))"
      ],
      "outputs": [
        {
          "output_type": "stream",
          "name": "stdout",
          "text": [
            "['mani', 'year', 'experi', 'michelin', 'star', 'restaur', 'luigi', 'tramontano', 'wife', 'nicoletta', 'open', 'first', 'restaur', 'chef', 'nativ', 'gargnano', 'previous', 'pasta', 'factori', 'build', 'convert', 'eleg', 'contemporary', 'styl', 'restaur', 'nonetheless', 'retain', 'charm', 'high', 'ceil', 'cuisin', 'inspir', 'region', 'tradit', 'reinterpret', 'creat', 'gourmet', 'dish', 'prepar', 'respect', 'ingredi', 'use', 'strong', 'focu', 'local', 'produc']\n"
          ]
        }
      ],
      "execution_count": null
    },
    {
      "cell_type": "markdown",
      "metadata": {
        "id": "DO0y6xQyfcyJ"
      },
      "source": [
        "## 2.1 Conjunctive Query"
      ]
    },
    {
      "cell_type": "markdown",
      "metadata": {
        "id": "faZun-BPfgJm"
      },
      "source": [
        "### 2.1.1 Create your Index!"
      ]
    },
    {
      "metadata": {
        "id": "RokwJMmwq48y"
      },
      "cell_type": "markdown",
      "source": [
        "In the following code cells, we preprocess all restaurant descriptions and 1. save unique tokens in a DataFrame ```vocabulary_df``` that maps terms to unique integer IDs, then 2. compute the inverted index for the documents."
      ]
    },
    {
      "cell_type": "code",
      "metadata": {
        "id": "jCv8kfkcfnKl",
        "ExecuteTime": {
          "end_time": "2024-11-14T16:29:53.954989Z",
          "start_time": "2024-11-14T16:29:53.741671Z"
        }
      },
      "source": [
        "# 1. Vocabulary File\n",
        "\n",
        "# Retrieve the restaurants DataFrame\n",
        "df = pd.read_csv('restaurants_data.tsv', sep='\\t')\n",
        "\n",
        "doc_tokens = [] # initialize list to store all tokens\n",
        "\n",
        "# Find unique tokens\n",
        "for doc in preprocessed_docs.values():\n",
        "  doc_tokens.extend(doc)\n",
        "  doc_tokens = list(set(doc_tokens)) # remove duplicates\n",
        "\n",
        "vocabulary_dict = {term: i for i,term in enumerate(doc_tokens)} # dictionary of all vocabulary terms\n",
        "vocabulary_df = pd.DataFrame({'term': vocabulary_dict.keys(), 'term_id': vocabulary_dict.values()}) # dataframe that maps terms to IDs\n",
        "\n",
        "vocabulary_df.to_csv('vocabulary.csv', index=False) # save vocabulary dataframe in a csv file"
      ],
      "outputs": [],
      "execution_count": null
    },
    {
      "cell_type": "code",
      "metadata": {
        "id": "QI3YYNZMhpC_",
        "ExecuteTime": {
          "end_time": "2024-11-14T16:29:55.509571Z",
          "start_time": "2024-11-14T16:29:55.424758Z"
        }
      },
      "source": [
        "# 2. Inverted Index\n",
        "\n",
        "inverted_index = defaultdict(list) # initialize inverted_index dictionary\n",
        "\n",
        "# Compute the inverted_index\n",
        "for doc_id, row in enumerate(df.description):\n",
        "  tokens = set(preprocessed_docs[doc_id]) # preprocessed description\n",
        "  for token in tokens: # eliminate duplicates\n",
        "    # Look up the term_id of the current term/token\n",
        "    term_id = vocabulary_dict[token]\n",
        "    # If the doc_id is not in the term_id's list in inverted_index, add it\n",
        "    if doc_id not in inverted_index[term_id]:\n",
        "      inverted_index[term_id].append(doc_id)\n",
        "\n",
        "# Save the inverted_index dictionary to a file\n",
        "with open(\"inverted_index.pkl\", \"wb\") as file:\n",
        "    pickle.dump(inverted_index, file)"
      ],
      "outputs": [],
      "execution_count": null
    },
    {
      "metadata": {
        "id": "XJbzx-yQq48z"
      },
      "cell_type": "markdown",
      "source": [
        "Next, we allow the user to input a query. After clicking on search, the first search engine will be triggered to retrieve all restaurants that contain in their description the same terms as the query."
      ]
    },
    {
      "cell_type": "code",
      "metadata": {
        "id": "mstIv_0qlqXw",
        "ExecuteTime": {
          "end_time": "2024-11-14T16:29:57.258370Z",
          "start_time": "2024-11-14T16:29:57.233693Z"
        },
        "colab": {
          "base_uri": "https://localhost:8080/",
          "height": 1000,
          "referenced_widgets": [
            "b56554a3eab0418dbd78d31b5bbb9e91",
            "a820cc296d1c4eb7944a85d18c9ee705",
            "5aac1dc19f5049bcbc3541312c4cd596",
            "b2fed110ee6a49f88b0f9c621ebeda30",
            "350c4778334643d18c5a07e2d8e422dc",
            "7516c57f54c24a9083f1832304fe3b4d",
            "2ecaf6eb4c1d42d685e69ce61811528c",
            "20906c177e0142459bff977843742ab0"
          ]
        },
        "outputId": "596fbce1-9e03-479d-e5ca-a6c205263978"
      },
      "source": [
        "import ipywidgets as widgets\n",
        "from IPython.display import display\n",
        "# re-load inverted index in case it was modified somewhere\n",
        "with open('inverted_index.pkl', 'rb') as file:\n",
        "    inverted_index = pickle.load(file)\n",
        "\n",
        "# Text input field for query\n",
        "text_input = widgets.Text(\n",
        "    value='',\n",
        "    placeholder='Type your query',\n",
        "    description='Query:',\n",
        "    disabled=False\n",
        ")\n",
        "\n",
        "# Search button\n",
        "search_button = widgets.Button(\n",
        "    description='Search',\n",
        "    disabled=False,\n",
        "    button_style='primary'\n",
        ")\n",
        "\n",
        "output = widgets.Output()\n",
        "\n",
        "# Define a function to handle button press\n",
        "def on_search_button_clicked(b):\n",
        "    with output:\n",
        "        output.clear_output()  # clear previous output if there are any\n",
        "        query = text_input.value\n",
        "        if query.strip():  # Check if there's an input\n",
        "            display(engine.find_restaurants(query, vocabulary_df, inverted_index, df)) # display query results\n",
        "        else:\n",
        "            print(\"Please enter something to search for.\")\n",
        "\n",
        "# Link the function to the button\n",
        "search_button.on_click(on_search_button_clicked)\n",
        "\n",
        "# Display the widgets\n",
        "display(text_input, search_button, output)"
      ],
      "outputs": [
        {
          "output_type": "display_data",
          "data": {
            "text/plain": [
              "Text(value='', description='Query:', placeholder='Type your query')"
            ],
            "application/vnd.jupyter.widget-view+json": {
              "version_major": 2,
              "version_minor": 0,
              "model_id": "b56554a3eab0418dbd78d31b5bbb9e91"
            }
          },
          "metadata": {}
        },
        {
          "output_type": "display_data",
          "data": {
            "text/plain": [
              "Button(button_style='primary', description='Search', style=ButtonStyle())"
            ],
            "application/vnd.jupyter.widget-view+json": {
              "version_major": 2,
              "version_minor": 0,
              "model_id": "b2fed110ee6a49f88b0f9c621ebeda30"
            }
          },
          "metadata": {}
        },
        {
          "output_type": "display_data",
          "data": {
            "text/plain": [
              "Output()"
            ],
            "application/vnd.jupyter.widget-view+json": {
              "version_major": 2,
              "version_minor": 0,
              "model_id": "2ecaf6eb4c1d42d685e69ce61811528c"
            }
          },
          "metadata": {}
        }
      ],
      "execution_count": null
    },
    {
      "cell_type": "code",
      "source": [
        "output"
      ],
      "metadata": {
        "id": "IwawsqPwWItC"
      },
      "execution_count": null,
      "outputs": []
    },
    {
      "cell_type": "markdown",
      "metadata": {
        "id": "92JOh6oFyPuz"
      },
      "source": [
        "## 2.2 Ranked Search Engine with TF-IDF and Cosine Similarity"
      ]
    },
    {
      "cell_type": "markdown",
      "metadata": {
        "id": "uXxrWEbzyVV2"
      },
      "source": [
        "### 2.2.1 Inverted Index with TF-IDF Scores"
      ]
    },
    {
      "metadata": {
        "id": "M_fu9JD6q48z"
      },
      "cell_type": "markdown",
      "source": [
        "In the following exercise, we will first compute the inverted index with TF-IDF scores using the custom-made function ```tf_idf``` and save the ```updated_inverted_index``` in a pickle file."
      ]
    },
    {
      "cell_type": "code",
      "metadata": {
        "collapsed": true,
        "id": "KNv23rrBWtxx",
        "ExecuteTime": {
          "end_time": "2024-11-14T16:30:13.000823Z",
          "start_time": "2024-11-14T16:30:12.788197Z"
        }
      },
      "source": [
        "# Preliminary steps\n",
        "n = len(preprocessed_docs)\n",
        "updated_inverted_index = defaultdict(list) # initialize default dictionary to store the inverted_index values with TF-IDF scores\n",
        "inverted_index_copy = inverted_index.copy() # Create a copy of the inverted_index to iterate over\n",
        "\n",
        "# Compute updated_inverted_index\n",
        "for term_id, docs in inverted_index_copy.items():\n",
        "  tf_idf_scores = engine.tf_idf(int(term_id), inverted_index, preprocessed_docs, vocabulary_df, n)\n",
        "  updated_inverted_index[term_id] = list(zip(docs, tf_idf_scores))\n",
        "\n",
        "with open('updated_inverted_index.pkl', 'wb') as file:\n",
        "    pickle.dump(updated_inverted_index, file)"
      ],
      "outputs": [],
      "execution_count": null
    },
    {
      "metadata": {
        "id": "t7ofyJ2Pq480"
      },
      "cell_type": "markdown",
      "source": [
        "Next, we retrieve from ```updated_inverted_index``` the TF-IDF scores related to documents, and memorize only the tuples (term, tf-idf) where tf-idf != 0 for each document in a pickle file."
      ]
    },
    {
      "cell_type": "code",
      "metadata": {
        "collapsed": true,
        "id": "rLbjRaqLS9bj",
        "ExecuteTime": {
          "end_time": "2024-11-14T16:30:14.192288Z",
          "start_time": "2024-11-14T16:30:14.068646Z"
        }
      },
      "source": [
        "# Compute the TF-IDF vectors of all documents and store them in a pickle file\n",
        "doc_tf_idf_scores = defaultdict(list) # initialize dictionary to store non-zero TF-IDF scores for each document\n",
        "\n",
        "for term_id, docs_scores in updated_inverted_index.items():\n",
        "  for doc_id, tf_idf_score in docs_scores:\n",
        "    if tf_idf_score != 0:\n",
        "      doc_tf_idf_scores[doc_id].append((term_id,tf_idf_score))\n",
        "  doc_tf_idf_scores[doc_id].sort(key=lambda x: x[0]) # sort the terms\n",
        "\n",
        "with open('doc_tf_idf_scores.pkl', 'wb') as file:\n",
        "    pickle.dump(doc_tf_idf_scores, file)"
      ],
      "outputs": [],
      "execution_count": null
    },
    {
      "metadata": {
        "id": "K79pWEw8q480"
      },
      "cell_type": "markdown",
      "source": [
        "Finally, we enable the user to input a text query, and return the top-k ranked restaurants by cosine similarity."
      ]
    },
    {
      "cell_type": "code",
      "metadata": {
        "id": "LXzqp1nkQ661",
        "ExecuteTime": {
          "end_time": "2024-11-14T16:30:40.948103Z",
          "start_time": "2024-11-14T16:30:40.925313Z"
        },
        "colab": {
          "base_uri": "https://localhost:8080/",
          "height": 618,
          "referenced_widgets": [
            "339330f01d184d4aa438edc4f14c20b0",
            "d6adca703c5c4e0484eee101bcf29e8f",
            "03815d57be7145a98bf391427688676b",
            "59d83a9d674347e6a58cf07c805cdb68",
            "e298551da48943ce9ceebed82357ea72",
            "d5af94537334481eb733a71e7050996e",
            "d666a55bd0634847865946e23be3bcf9",
            "01c9d8947abf483da8f5e04432785609"
          ]
        },
        "outputId": "d44d3b0c-3a16-4f8e-caf6-0842e53ef739"
      },
      "source": [
        "# re-load inverted index in case it was modified somewhere\n",
        "with open('inverted_index.pkl', 'rb') as file:\n",
        "    inverted_index = pickle.load(file)\n",
        "\n",
        "# Text input field for query\n",
        "text_input = widgets.Text(\n",
        "    value='',\n",
        "    placeholder='Type your query',\n",
        "    description='Query:',\n",
        "    disabled=False\n",
        ")\n",
        "\n",
        "# Search button\n",
        "search_button = widgets.Button(\n",
        "    description='Search',\n",
        "    disabled=False,\n",
        "    button_style='primary'\n",
        ")\n",
        "\n",
        "output = widgets.Output()\n",
        "\n",
        "# Define a function to handle button press\n",
        "def on_search_button_clicked(b):\n",
        "    with output:\n",
        "        output.clear_output()  # clear previous output if there are any\n",
        "        query = text_input.value\n",
        "        if query.strip():  # Check if there's an input\n",
        "            k = 10\n",
        "            display(engine.top_k_restaurants(query, inverted_index, vocabulary_dict, doc_tf_idf_scores, df, n, k)) # display query results\n",
        "        else:\n",
        "            print(\"Please enter something to search for.\")\n",
        "\n",
        "# Link the function to the button\n",
        "search_button.on_click(on_search_button_clicked)\n",
        "\n",
        "# Display the widgets\n",
        "display(text_input, search_button, output)"
      ],
      "outputs": [
        {
          "output_type": "display_data",
          "data": {
            "text/plain": [
              "Text(value='', description='Query:', placeholder='Type your query')"
            ],
            "application/vnd.jupyter.widget-view+json": {
              "version_major": 2,
              "version_minor": 0,
              "model_id": "339330f01d184d4aa438edc4f14c20b0"
            }
          },
          "metadata": {}
        },
        {
          "output_type": "display_data",
          "data": {
            "text/plain": [
              "Button(button_style='primary', description='Search', style=ButtonStyle())"
            ],
            "application/vnd.jupyter.widget-view+json": {
              "version_major": 2,
              "version_minor": 0,
              "model_id": "59d83a9d674347e6a58cf07c805cdb68"
            }
          },
          "metadata": {}
        },
        {
          "output_type": "display_data",
          "data": {
            "text/plain": [
              "Output()"
            ],
            "application/vnd.jupyter.widget-view+json": {
              "version_major": 2,
              "version_minor": 0,
              "model_id": "d666a55bd0634847865946e23be3bcf9"
            }
          },
          "metadata": {}
        }
      ],
      "execution_count": null
    },
    {
      "cell_type": "code",
      "source": [
        "output"
      ],
      "metadata": {
        "id": "1MJSvYzeWL2n"
      },
      "execution_count": null,
      "outputs": []
    }
  ]
}